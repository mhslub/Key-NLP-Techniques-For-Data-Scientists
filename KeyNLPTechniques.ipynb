{
 "cells": [
  {
   "cell_type": "markdown",
   "metadata": {},
   "source": [
    "<h1 style=\"text-align: center;\">Key NLP Techniques for Data Scientists</h1> "
   ]
  },
  {
   "cell_type": "markdown",
   "metadata": {},
   "source": [
    "Practical Examples Using Python and JupyterLab.\n",
    "\n",
    "1. Tokenization: split text into sentences and words.\n",
    "2. Stemming: stripping the affixes from words.\n",
    "3. Lemmatization: converting words to their base form.\n",
    "4. Word Embeddings: representations for words.\n",
    "5. Stop Words Removal: remove words of little value like \"the\", \"and\", \"a\", \"an\".\n",
    "6. Sentiment Analysis: opinion mining."
   ]
  },
  {
   "cell_type": "markdown",
   "metadata": {
    "tags": []
   },
   "source": [
    "## Install Dependencies"
   ]
  },
  {
   "cell_type": "code",
   "execution_count": null,
   "metadata": {
    "tags": []
   },
   "outputs": [],
   "source": [
    "!pip3 install nltk\n",
    "!pip3 install scikit-learn\n",
    "!pip3 install pandas"
   ]
  },
  {
   "cell_type": "code",
   "execution_count": 2,
   "metadata": {
    "tags": []
   },
   "outputs": [],
   "source": [
    "#sample sentence extracted from 20NewsGroups dataset for text classification\n",
    "example_sentence = \"\"\"A fair number of brave souls who upgraded their SI clock oscillator have\n",
    "shared their experiences for this poll. Please send a brief message detailing\n",
    "your experiences with the procedure. Top speed attained, CPU rated speed,\n",
    "add on cards and adapters, heat sinks, hour of usage per day, floppy disk\n",
    "functionality with 800 and 1.4 m floppies are especially requested.\"\"\""
   ]
  },
  {
   "cell_type": "markdown",
   "metadata": {},
   "source": [
    "## Cleaning"
   ]
  },
  {
   "cell_type": "code",
   "execution_count": 3,
   "metadata": {
    "tags": []
   },
   "outputs": [],
   "source": [
    "#Cleaning is optional and depends on the text type and the task design\n",
    "#Symbols can be irrelevant for some tasks but important for others\n",
    "import re \n",
    "def clean_str(String):\n",
    "    String = re.sub(r\"\\\\n\", \"\", String) # to remove new-line characters\n",
    "    # String = re.sub(r\"[^A-Za-z]\", \" \", String)#to remove symbols \n",
    "    String = re.sub(r\"\\s+\", \" \", String)#replace multiple spaces with only one space\n",
    "    String = String.strip().lower()\n",
    "    return String"
   ]
  },
  {
   "cell_type": "code",
   "execution_count": 4,
   "metadata": {
    "tags": []
   },
   "outputs": [
    {
     "name": "stdout",
     "output_type": "stream",
     "text": [
      "a fair number of brave souls who upgraded their si clock oscillator have shared their experiences for this poll. please send a brief message detailing your experiences with the procedure. top speed attained, cpu rated speed, add on cards and adapters, heat sinks, hour of usage per day, floppy disk functionality with 800 and 1.4 m floppies are especially requested.\n"
     ]
    }
   ],
   "source": [
    "cleaned_text = clean_str(example_sentence)\n",
    "print(cleaned_text)"
   ]
  },
  {
   "cell_type": "markdown",
   "metadata": {},
   "source": [
    "## Tokenization"
   ]
  },
  {
   "cell_type": "code",
   "execution_count": 5,
   "metadata": {
    "tags": []
   },
   "outputs": [
    {
     "name": "stderr",
     "output_type": "stream",
     "text": [
      "[nltk_data] Downloading package punkt to /Users/lubani/nltk_data...\n",
      "[nltk_data]   Package punkt is already up-to-date!\n"
     ]
    },
    {
     "data": {
      "text/plain": [
       "True"
      ]
     },
     "execution_count": 5,
     "metadata": {},
     "output_type": "execute_result"
    }
   ],
   "source": [
    "import nltk\n",
    "nltk.download('punkt') #model for sentence tokenizer"
   ]
  },
  {
   "cell_type": "code",
   "execution_count": 6,
   "metadata": {
    "tags": []
   },
   "outputs": [
    {
     "name": "stdout",
     "output_type": "stream",
     "text": [
      "number of sentences:  3\n",
      "['a fair number of brave souls who upgraded their si clock oscillator have shared their experiences for this poll.', 'please send a brief message detailing your experiences with the procedure.', 'top speed attained, cpu rated speed, add on cards and adapters, heat sinks, hour of usage per day, floppy disk functionality with 800 and 1.4 m floppies are especially requested.']\n"
     ]
    }
   ],
   "source": [
    "#Sentence Tokenizer\n",
    "from nltk.tokenize import sent_tokenize\n",
    "tokenized_sent = sent_tokenize(cleaned_text)\n",
    "print('number of sentences: ', len(tokenized_sent))\n",
    "print(tokenized_sent)"
   ]
  },
  {
   "cell_type": "code",
   "execution_count": 7,
   "metadata": {
    "tags": []
   },
   "outputs": [
    {
     "name": "stdout",
     "output_type": "stream",
     "text": [
      "['a', 'fair', 'number', 'of', 'brave', 'souls', 'who', 'upgraded', 'their', 'si', 'clock', 'oscillator', 'have', 'shared', 'their', 'experiences', 'for', 'this', 'poll', '.', 'please', 'send', 'a', 'brief', 'message', 'detailing', 'your', 'experiences', 'with', 'the', 'procedure', '.', 'top', 'speed', 'attained', ',', 'cpu', 'rated', 'speed', ',', 'add', 'on', 'cards', 'and', 'adapters', ',', 'heat', 'sinks', ',', 'hour', 'of', 'usage', 'per', 'day', ',', 'floppy', 'disk', 'functionality', 'with', '800', 'and', '1.4', 'm', 'floppies', 'are', 'especially', 'requested', '.']\n"
     ]
    }
   ],
   "source": [
    "#Word Tokenizer\n",
    "from nltk.tokenize import word_tokenize\n",
    "tokenized = word_tokenize(cleaned_text)\n",
    "print(tokenized)"
   ]
  },
  {
   "cell_type": "code",
   "execution_count": 46,
   "metadata": {
    "tags": []
   },
   "outputs": [
    {
     "name": "stdout",
     "output_type": "stream",
     "text": [
      "['Dont', 'take', 'cryptocurrency', 'advice', 'from', 'people', 'on', 'Twitter', '😃', '👍', '#crypto']\n",
      "['Dont', 'take', 'cryptocurrency', 'advice', 'from', 'people', 'on', 'Twitter', '😃👍', '#', 'crypto']\n"
     ]
    }
   ],
   "source": [
    "#Tweet Tokenizer compared to word_tokenize\n",
    "from nltk.tokenize import TweetTokenizer\n",
    "tweet = \"Dont take cryptocurrency advice from people on Twitter 😃👍 #crypto\"\n",
    "tokenizer = TweetTokenizer()\n",
    "tokenized_tweet = tokenizer.tokenize(tweet)\n",
    "print(tokenized_tweet)\n",
    "print(word_tokenize(tweet))"
   ]
  },
  {
   "cell_type": "markdown",
   "metadata": {},
   "source": [
    "## Stemming and Lemmatization"
   ]
  },
  {
   "cell_type": "markdown",
   "metadata": {},
   "source": [
    "### 1- NLTK"
   ]
  },
  {
   "cell_type": "code",
   "execution_count": 9,
   "metadata": {
    "tags": []
   },
   "outputs": [
    {
     "name": "stdout",
     "output_type": "stream",
     "text": [
      "argu\n",
      "argu\n",
      "argu\n",
      "argu\n"
     ]
    }
   ],
   "source": [
    "from nltk.stem import PorterStemmer\n",
    "porter = PorterStemmer()\n",
    "\n",
    "print(porter.stem('argue'))\n",
    "print(porter.stem('argued'))\n",
    "print(porter.stem('argues'))\n",
    "print(porter.stem('arguing'))"
   ]
  },
  {
   "cell_type": "code",
   "execution_count": 10,
   "metadata": {
    "tags": []
   },
   "outputs": [
    {
     "name": "stdout",
     "output_type": "stream",
     "text": [
      "argue\n",
      "argue\n",
      "argue\n",
      "arguing\n"
     ]
    }
   ],
   "source": [
    "from nltk.stem import WordNetLemmatizer\n",
    "lemmatizer = WordNetLemmatizer()\n",
    "\n",
    "print(lemmatizer.lemmatize(\"argue\", 'v'))\n",
    "print(lemmatizer.lemmatize(\"argued\", 'v')) \n",
    "print(lemmatizer.lemmatize(\"argues\", 'v'))\n",
    "print(lemmatizer.lemmatize(\"arguing\", 'n'))"
   ]
  },
  {
   "cell_type": "code",
   "execution_count": 11,
   "metadata": {
    "tags": []
   },
   "outputs": [
    {
     "name": "stdout",
     "output_type": "stream",
     "text": [
      "went\n"
     ]
    }
   ],
   "source": [
    "#WordNetLemmatizer requires the correct POS tag to be accurate, default is noun\n",
    "print(lemmatizer.lemmatize(\"went\"))"
   ]
  },
  {
   "cell_type": "markdown",
   "metadata": {},
   "source": [
    "### 2- spaCy"
   ]
  },
  {
   "cell_type": "code",
   "execution_count": null,
   "metadata": {
    "tags": []
   },
   "outputs": [],
   "source": [
    "!pip3 install spacy\n",
    "!python3 -m spacy download en_core_web_md"
   ]
  },
  {
   "cell_type": "code",
   "execution_count": 13,
   "metadata": {
    "tags": []
   },
   "outputs": [],
   "source": [
    "import spacy\n",
    "nlp = spacy.load('en_core_web_md') #load the core English language model"
   ]
  },
  {
   "cell_type": "code",
   "execution_count": 14,
   "metadata": {
    "tags": []
   },
   "outputs": [
    {
     "name": "stdout",
     "output_type": "stream",
     "text": [
      "After --> after\n",
      "the --> the\n",
      "cats --> cat\n",
      "fell --> fall\n",
      "asleep --> asleep\n",
      ", --> ,\n",
      "the --> the\n",
      "mice --> mouse\n",
      "went --> go\n",
      "out --> out\n",
      "to --> to\n",
      "play --> play\n",
      ". --> .\n"
     ]
    }
   ],
   "source": [
    "doc=nlp('After the cats fell asleep, the mice went out to play.')\n",
    "for token in doc:\n",
    "    print(token,'-->',token.lemma_)"
   ]
  },
  {
   "cell_type": "code",
   "execution_count": 15,
   "metadata": {
    "tags": []
   },
   "outputs": [
    {
     "name": "stdout",
     "output_type": "stream",
     "text": [
      "a fair number of brave souls who upgraded their si clock oscillator have shared their experiences for this poll. please send a brief message detailing your experiences with the procedure. top speed attained, cpu rated speed, add on cards and adapters, heat sinks, hour of usage per day, floppy disk functionality with 800 and 1.4 m floppies are especially requested.\n",
      "a a\n",
      "fair fair\n",
      "number number\n",
      "of of\n",
      "brave brave\n",
      "souls soul\n",
      "who who\n",
      "upgraded upgrade\n",
      "their their\n",
      "si si\n",
      "clock clock\n",
      "oscillator oscillator\n",
      "have have\n",
      "shared share\n",
      "their their\n",
      "experiences experience\n",
      "for for\n",
      "this this\n",
      "poll poll\n",
      ". .\n",
      "please please\n",
      "send send\n",
      "a a\n",
      "brief brief\n",
      "message message\n",
      "detailing detail\n",
      "your your\n",
      "experiences experience\n",
      "with with\n",
      "the the\n",
      "procedure procedure\n",
      ". .\n",
      "top top\n",
      "speed speed\n",
      "attained attain\n",
      ", ,\n",
      "cpu cpu\n",
      "rated rate\n",
      "speed speed\n",
      ", ,\n",
      "add add\n",
      "on on\n",
      "cards card\n",
      "and and\n",
      "adapters adapter\n",
      ", ,\n",
      "heat heat\n",
      "sinks sink\n",
      ", ,\n",
      "hour hour\n",
      "of of\n",
      "usage usage\n",
      "per per\n",
      "day day\n",
      ", ,\n",
      "floppy floppy\n",
      "disk disk\n",
      "functionality functionality\n",
      "with with\n",
      "800 800\n",
      "and and\n",
      "1.4 1.4\n",
      "m m\n",
      "floppies floppy\n",
      "are be\n",
      "especially especially\n",
      "requested request\n",
      ". .\n"
     ]
    }
   ],
   "source": [
    "#lemmatize out original example sentence\n",
    "original=[]\n",
    "lemmatized=[]\n",
    "print(cleaned_text)\n",
    "doc=nlp(cleaned_text)\n",
    "for token in doc:\n",
    "    original.append(token.text)\n",
    "    lemmatized.append(token.lemma_.lower())\n",
    "    \n",
    "\n",
    "res = \"\\n\".join(\"{} {}\".format(x, y) for x, y in zip(original, lemmatized))\n",
    "print(res)"
   ]
  },
  {
   "cell_type": "markdown",
   "metadata": {},
   "source": [
    "## Word Embeddings"
   ]
  },
  {
   "cell_type": "markdown",
   "metadata": {},
   "source": [
    "* Both spaCy and NLTK are open-source Natural Language Processing libraries.<br>\n",
    "* spaCy is more efficient than NLTK and has support for word embeddings (vectors) whereas NLTK does not.<br> \n",
    "* NLTK allows for selecting a specific algorithm to perform tasks unlike spaCy.<br>"
   ]
  },
  {
   "cell_type": "code",
   "execution_count": 16,
   "metadata": {
    "tags": []
   },
   "outputs": [],
   "source": [
    "doc=nlp('cats purring and dogs barking.')"
   ]
  },
  {
   "cell_type": "code",
   "execution_count": 17,
   "metadata": {
    "tags": []
   },
   "outputs": [
    {
     "data": {
      "text/plain": [
       "[cats, purring, and, dogs, barking, .]"
      ]
     },
     "execution_count": 17,
     "metadata": {},
     "output_type": "execute_result"
    }
   ],
   "source": [
    "[token for token in doc]"
   ]
  },
  {
   "cell_type": "markdown",
   "metadata": {},
   "source": [
    "### 1- Similarity"
   ]
  },
  {
   "cell_type": "code",
   "execution_count": 18,
   "metadata": {
    "tags": []
   },
   "outputs": [
    {
     "data": {
      "text/plain": [
       "0.87537116"
      ]
     },
     "execution_count": 18,
     "metadata": {},
     "output_type": "execute_result"
    }
   ],
   "source": [
    "#find the cosine similarity between two vectors\n",
    "from sklearn.metrics.pairwise import cosine_similarity\n",
    "cosine_similarity([doc[0].vector], [doc[3].vector])[0][0]"
   ]
  },
  {
   "cell_type": "code",
   "execution_count": 19,
   "metadata": {
    "tags": []
   },
   "outputs": [
    {
     "data": {
      "text/plain": [
       "0.8753713965415955"
      ]
     },
     "execution_count": 19,
     "metadata": {},
     "output_type": "execute_result"
    }
   ],
   "source": [
    "doc[0].similarity(doc[3]) #spaCy’s similarity  "
   ]
  },
  {
   "cell_type": "code",
   "execution_count": 20,
   "metadata": {
    "tags": []
   },
   "outputs": [
    {
     "name": "stdout",
     "output_type": "stream",
     "text": [
      "300\n"
     ]
    }
   ],
   "source": [
    "print(len(doc[0].vector))"
   ]
  },
  {
   "cell_type": "markdown",
   "metadata": {},
   "source": [
    "### 2- Visualisation"
   ]
  },
  {
   "cell_type": "code",
   "execution_count": null,
   "metadata": {
    "tags": []
   },
   "outputs": [],
   "source": [
    "!pip3 install matplotlib"
   ]
  },
  {
   "cell_type": "code",
   "execution_count": 22,
   "metadata": {
    "tags": []
   },
   "outputs": [
    {
     "data": {
      "image/png": "[encoded data removed]",
      "text/plain": [
       "<Figure size 800x800 with 1 Axes>"
      ]
     },
     "metadata": {},
     "output_type": "display_data"
    }
   ],
   "source": [
    "from sklearn.manifold import TSNE #dimensionality reduction method (optimization problem)\n",
    "import matplotlib.pyplot as plt\n",
    "import numpy as np\n",
    "\n",
    "words = ['cat', 'dog', 'like', 'prefer', 'walked', 'swam', 'doctor', 'nurse']\n",
    "\n",
    "doc=nlp(' '.join(words))\n",
    "\n",
    "#Creates and TSNE model and plots it\n",
    "labels = []\n",
    "vectors = []\n",
    "\n",
    "for token in doc:\n",
    "    vectors.append(token.vector)\n",
    "    labels.append(token.text)\n",
    "\n",
    "tsne_model = TSNE(perplexity=1.3, n_components=2, init='pca', n_iter=1000, random_state=42)\n",
    "new_values = tsne_model.fit_transform(np.array(vectors)) #reduce to a lower dimension with minimal similarity changes \n",
    "\n",
    "x = []\n",
    "y = []\n",
    "for value in new_values:\n",
    "    x.append(value[0])\n",
    "    y.append(value[1])\n",
    "\n",
    "plt.figure(figsize=(8, 8)) \n",
    "for i in range(len(x)):\n",
    "    plt.scatter(x[i], y[i])\n",
    "    plt.annotate(labels[i],\n",
    "                 xy=(x[i], y[i]),\n",
    "                 xytext=(2, 2),\n",
    "                 textcoords='offset points')\n",
    "plt.show()"
   ]
  },
  {
   "cell_type": "markdown",
   "metadata": {},
   "source": [
    "## Stop Word Removal\n"
   ]
  },
  {
   "cell_type": "code",
   "execution_count": 23,
   "metadata": {
    "tags": []
   },
   "outputs": [
    {
     "name": "stderr",
     "output_type": "stream",
     "text": [
      "[nltk_data] Downloading package stopwords to\n",
      "[nltk_data]     /Users/lubani/nltk_data...\n",
      "[nltk_data]   Package stopwords is already up-to-date!\n"
     ]
    },
    {
     "data": {
      "text/plain": [
       "True"
      ]
     },
     "execution_count": 23,
     "metadata": {},
     "output_type": "execute_result"
    }
   ],
   "source": [
    "import nltk\n",
    "nltk.download('stopwords')"
   ]
  },
  {
   "cell_type": "code",
   "execution_count": 24,
   "metadata": {
    "tags": []
   },
   "outputs": [
    {
     "name": "stdout",
     "output_type": "stream",
     "text": [
      "179\n",
      "['i', 'me', 'my', 'myself', 'we', 'our', 'ours', 'ourselves', 'you', \"you're\", \"you've\", \"you'll\", \"you'd\", 'your', 'yours', 'yourself', 'yourselves', 'he', 'him', 'his', 'himself', 'she', \"she's\", 'her', 'hers', 'herself', 'it', \"it's\", 'its', 'itself', 'they', 'them', 'their', 'theirs', 'themselves', 'what', 'which', 'who', 'whom', 'this', 'that', \"that'll\", 'these', 'those', 'am', 'is', 'are', 'was', 'were', 'be', 'been', 'being', 'have', 'has', 'had', 'having', 'do', 'does', 'did', 'doing', 'a', 'an', 'the', 'and', 'but', 'if', 'or', 'because', 'as', 'until', 'while', 'of', 'at', 'by', 'for', 'with', 'about', 'against', 'between', 'into', 'through', 'during', 'before', 'after', 'above', 'below', 'to', 'from', 'up', 'down', 'in', 'out', 'on', 'off', 'over', 'under', 'again', 'further', 'then', 'once']\n"
     ]
    }
   ],
   "source": [
    "from nltk.corpus import stopwords\n",
    "stop = list(stopwords.words('english'))\n",
    "print(len(stop))\n",
    "print(stop[:100])"
   ]
  },
  {
   "cell_type": "code",
   "execution_count": 25,
   "metadata": {},
   "outputs": [
    {
     "name": "stdout",
     "output_type": "stream",
     "text": [
      "326\n",
      "['afterwards', 'moreover', 'our', 'since', 'thereby', 'fifty', 'third', 'really', 'but', 'less', '‘m', \"'ve\", 'both', 'ten', 're', 'he', 'somewhere', 'other', 'across', 'latterly', 'most', 'during', 'whereupon', 'which', 'very', 'many', 'meanwhile', 'her', 'never', 'hereafter', 'serious', 'hundred', 'on', 'seems', 'everyone', 'can', 'us', '’re', 'by', 'your', 'another', '‘ll', 'indeed', '‘d', 'either', 'per', 'anyhow', 'show', 'yourselves', 'she', 'such', 'to', 'whence', 'back', 'against', 'his', 'become', 'keep', 'get', 'around', 'were', 'all', 'any', 'something', \"'d\", 'no', 'not', 'someone', '’s', 'more', 'through', \"'re\", 'none', 'how', 'noone', 'one', 'sometimes', 'sometime', 'or', 'throughout', 'bottom', 'being', 'would', 'will', 'whenever', 'as', 'once', 'whom', 'whereafter', 'whose', 'may', 'name', 'forty', '’m', 'off', 'anyone', 'i', 'those', 'mine', 'mostly']\n"
     ]
    }
   ],
   "source": [
    "import spacy \n",
    "from spacy.lang.en.stop_words import STOP_WORDS\n",
    "stop_words=list(STOP_WORDS)\n",
    "print(len(stop_words))\n",
    "print(stop_words[:100])"
   ]
  },
  {
   "cell_type": "code",
   "execution_count": 26,
   "metadata": {},
   "outputs": [],
   "source": [
    "stop_words_removed=[]\n",
    "removed_arr = []\n",
    "for word in lemmatized:\n",
    "    if word not in stop_words:     \n",
    "        stop_words_removed.append(word)\n",
    "    else:\n",
    "        removed_arr.append(word)"
   ]
  },
  {
   "cell_type": "code",
   "execution_count": 27,
   "metadata": {
    "scrolled": true
   },
   "outputs": [
    {
     "name": "stdout",
     "output_type": "stream",
     "text": [
      "['fair', 'number', 'brave', 'soul', 'upgrade', 'si', 'clock', 'oscillator', 'share', 'experience', 'poll', '.', 'send', 'brief', 'message', 'detail', 'experience', 'procedure', '.', 'speed', 'attain', ',', 'cpu', 'rate', 'speed', ',', 'add', 'card', 'adapter', ',', 'heat', 'sink', ',', 'hour', 'usage', 'day', ',', 'floppy', 'disk', 'functionality', '800', '1.4', 'm', 'floppy', 'especially', 'request', '.']\n"
     ]
    }
   ],
   "source": [
    "print(stop_words_removed)"
   ]
  },
  {
   "cell_type": "code",
   "execution_count": 28,
   "metadata": {
    "tags": []
   },
   "outputs": [
    {
     "name": "stdout",
     "output_type": "stream",
     "text": [
      "['a', 'of', 'who', 'their', 'have', 'their', 'for', 'this', 'please', 'a', 'your', 'with', 'the', 'top', 'on', 'and', 'of', 'per', 'with', 'and', 'be']\n"
     ]
    }
   ],
   "source": [
    "print(removed_arr)"
   ]
  },
  {
   "cell_type": "markdown",
   "metadata": {},
   "source": [
    "## Sentiment Analysis"
   ]
  },
  {
   "cell_type": "markdown",
   "metadata": {},
   "source": [
    "* Example using spaCy and Twitter sentimental analysis dataset from [here](https://www.kaggle.com/datasets/cosmos98/twitter-and-reddit-sentimental-analysis-dataset?select=Twitter_Data.csv). "
   ]
  },
  {
   "cell_type": "code",
   "execution_count": 30,
   "metadata": {
    "tags": []
   },
   "outputs": [
    {
     "data": {
      "text/html": [
       "<div>\n",
       "<style scoped>\n",
       "    .dataframe tbody tr th:only-of-type {\n",
       "        vertical-align: middle;\n",
       "    }\n",
       "\n",
       "    .dataframe tbody tr th {\n",
       "        vertical-align: top;\n",
       "    }\n",
       "\n",
       "    .dataframe thead th {\n",
       "        text-align: right;\n",
       "    }\n",
       "</style>\n",
       "<table border=\"1\" class=\"dataframe\">\n",
       "  <thead>\n",
       "    <tr style=\"text-align: right;\">\n",
       "      <th></th>\n",
       "      <th>clean_text</th>\n",
       "      <th>category</th>\n",
       "    </tr>\n",
       "  </thead>\n",
       "  <tbody>\n",
       "    <tr>\n",
       "      <th>0</th>\n",
       "      <td>when modi promised “minimum government maximum...</td>\n",
       "      <td>-1.0</td>\n",
       "    </tr>\n",
       "    <tr>\n",
       "      <th>1</th>\n",
       "      <td>talk all the nonsense and continue all the dra...</td>\n",
       "      <td>0.0</td>\n",
       "    </tr>\n",
       "    <tr>\n",
       "      <th>2</th>\n",
       "      <td>what did just say vote for modi  welcome bjp t...</td>\n",
       "      <td>1.0</td>\n",
       "    </tr>\n",
       "    <tr>\n",
       "      <th>3</th>\n",
       "      <td>asking his supporters prefix chowkidar their n...</td>\n",
       "      <td>1.0</td>\n",
       "    </tr>\n",
       "    <tr>\n",
       "      <th>4</th>\n",
       "      <td>answer who among these the most powerful world...</td>\n",
       "      <td>1.0</td>\n",
       "    </tr>\n",
       "  </tbody>\n",
       "</table>\n",
       "</div>"
      ],
      "text/plain": [
       "                                          clean_text  category\n",
       "0  when modi promised “minimum government maximum...      -1.0\n",
       "1  talk all the nonsense and continue all the dra...       0.0\n",
       "2  what did just say vote for modi  welcome bjp t...       1.0\n",
       "3  asking his supporters prefix chowkidar their n...       1.0\n",
       "4  answer who among these the most powerful world...       1.0"
      ]
     },
     "execution_count": 30,
     "metadata": {},
     "output_type": "execute_result"
    }
   ],
   "source": [
    "import pandas as pd\n",
    "\n",
    "data=pd.read_csv('archive-2/Twitter_Data.csv')\n",
    "data.head(5) #get the first 5 rows"
   ]
  },
  {
   "cell_type": "code",
   "execution_count": 31,
   "metadata": {
    "tags": []
   },
   "outputs": [],
   "source": [
    "data=data.dropna() #removes the rows that contains NULL values"
   ]
  },
  {
   "cell_type": "code",
   "execution_count": 32,
   "metadata": {
    "tags": []
   },
   "outputs": [
    {
     "data": {
      "text/plain": [
       "162969"
      ]
     },
     "execution_count": 32,
     "metadata": {},
     "output_type": "execute_result"
    }
   ],
   "source": [
    "len(data['clean_text'].values)"
   ]
  },
  {
   "cell_type": "code",
   "execution_count": 33,
   "metadata": {
    "tags": []
   },
   "outputs": [],
   "source": [
    "data=data[:1000] #for simplicity we will take the first 1000 sentences only."
   ]
  },
  {
   "cell_type": "code",
   "execution_count": 34,
   "metadata": {
    "tags": []
   },
   "outputs": [
    {
     "data": {
      "text/plain": [
       "'when modi promised “minimum government maximum governance” expected him begin the difficult job reforming the state why does take years get justice state should and not business and should exit psus and temples'"
      ]
     },
     "execution_count": 34,
     "metadata": {},
     "output_type": "execute_result"
    }
   ],
   "source": [
    "data['clean_text'].values[0] #cleaned text, but still need to apply tokeniation, lemmatization and stop words removal"
   ]
  },
  {
   "cell_type": "markdown",
   "metadata": {},
   "source": [
    "### 1- Data pre-processing"
   ]
  },
  {
   "cell_type": "code",
   "execution_count": 35,
   "metadata": {
    "tags": []
   },
   "outputs": [],
   "source": [
    "tokenized=[]\n",
    "lemmatized=[]\n",
    "\n",
    "for article in data['clean_text'].values:\n",
    "    doc=nlp(article) #apply spaCy pipeline\n",
    "    art_tokenized=[]\n",
    "    art_lemmatized=[]\n",
    "    for token in doc:\n",
    "        art_tokenized.append(token.text)\n",
    "        art_lemmatized.append(token.lemma_)\n",
    "        \n",
    "    tokenized.append(art_tokenized)\n",
    "    lemmatized.append(art_lemmatized)"
   ]
  },
  {
   "cell_type": "code",
   "execution_count": 36,
   "metadata": {
    "tags": []
   },
   "outputs": [
    {
     "name": "stdout",
     "output_type": "stream",
     "text": [
      "['when', 'modi', 'promised', '“', 'minimum', 'government', 'maximum', 'governance', '”', 'expected', 'him', 'begin', 'the', 'difficult', 'job', 'reforming', 'the', 'state', 'why', 'does', 'take', 'years', 'get', 'justice', 'state', 'should', 'and', 'not', 'business', 'and', 'should', 'exit', 'psus', 'and', 'temples']\n"
     ]
    }
   ],
   "source": [
    "print(tokenized[0])"
   ]
  },
  {
   "cell_type": "code",
   "execution_count": 37,
   "metadata": {
    "tags": []
   },
   "outputs": [
    {
     "name": "stdout",
     "output_type": "stream",
     "text": [
      "['when', 'modi', 'promise', '\"', 'minimum', 'government', 'maximum', 'governance', '\"', 'expect', 'he', 'begin', 'the', 'difficult', 'job', 'reform', 'the', 'state', 'why', 'do', 'take', 'year', 'get', 'justice', 'state', 'should', 'and', 'not', 'business', 'and', 'should', 'exit', 'psus', 'and', 'temple']\n"
     ]
    }
   ],
   "source": [
    "print(lemmatized[0])"
   ]
  },
  {
   "cell_type": "code",
   "execution_count": 38,
   "metadata": {
    "tags": []
   },
   "outputs": [],
   "source": [
    "stop_words_removed=[]\n",
    "for text in lemmatized:\n",
    "    c=[]\n",
    "    for word in text:\n",
    "        if word not in stop_words and len(word) > 1: #remove stop words and punctuations\n",
    "            c.append(word)\n",
    "            \n",
    "    stop_words_removed.append(c)"
   ]
  },
  {
   "cell_type": "code",
   "execution_count": 39,
   "metadata": {},
   "outputs": [
    {
     "name": "stdout",
     "output_type": "stream",
     "text": [
      "['modi', 'promise', 'minimum', 'government', 'maximum', 'governance', 'expect', 'begin', 'difficult', 'job', 'reform', 'state', 'year', 'justice', 'state', 'business', 'exit', 'psus', 'temple']\n"
     ]
    }
   ],
   "source": [
    "print(stop_words_removed[0])"
   ]
  },
  {
   "cell_type": "code",
   "execution_count": 40,
   "metadata": {
    "tags": []
   },
   "outputs": [],
   "source": [
    "# transform processed text to embeddings \n",
    "vectors=[] \n",
    "\n",
    "for text in stop_words_removed:\n",
    "    doc=nlp(' '.join(text)) #apply spaCy pipeline on the processed sentence as a string\n",
    "    vectors.append(doc.vector) #spaCy takes the average of word embeddings in the processed sentence "
   ]
  },
  {
   "cell_type": "code",
   "execution_count": 41,
   "metadata": {
    "tags": []
   },
   "outputs": [
    {
     "name": "stdout",
     "output_type": "stream",
     "text": [
      "300\n"
     ]
    }
   ],
   "source": [
    "print(len(vectors[0]))"
   ]
  },
  {
   "cell_type": "markdown",
   "metadata": {
    "tags": []
   },
   "source": [
    "### 2- Classification Model"
   ]
  },
  {
   "cell_type": "markdown",
   "metadata": {},
   "source": [
    "* Our data is now represented as embeddings. \n",
    "* We’ll split our data into train and test datasets and fit a logistic regression model on the training dataset."
   ]
  },
  {
   "cell_type": "code",
   "execution_count": 42,
   "metadata": {},
   "outputs": [],
   "source": [
    "import numpy as np\n",
    "from sklearn.model_selection import train_test_split\n",
    "\n",
    "# Split our data randomly into 80% training and 20% testing. \n",
    "# The random state controls the shuffling. Pass an int for reproducible output across multiple function calls.\n",
    "X_train, X_test, y_train, y_test = train_test_split(vectors, data.category.values, test_size=0.2, random_state=42) "
   ]
  },
  {
   "cell_type": "code",
   "execution_count": 43,
   "metadata": {},
   "outputs": [],
   "source": [
    "from sklearn.linear_model import LogisticRegression #linear classification  \n",
    "\n",
    "clf = LogisticRegression(random_state=0, max_iter=2000).fit(np.array(X_train), np.array(y_train))"
   ]
  },
  {
   "cell_type": "code",
   "execution_count": 44,
   "metadata": {},
   "outputs": [
    {
     "data": {
      "text/plain": [
       "0.9425"
      ]
     },
     "execution_count": 44,
     "metadata": {},
     "output_type": "execute_result"
    }
   ],
   "source": [
    "from sklearn.metrics import accuracy_score\n",
    "\n",
    "predicted_y=clf.predict(X_train)\n",
    "accuracy_score(y_train, predicted_y)"
   ]
  },
  {
   "cell_type": "code",
   "execution_count": 45,
   "metadata": {
    "tags": []
   },
   "outputs": [
    {
     "data": {
      "text/plain": [
       "0.56"
      ]
     },
     "execution_count": 45,
     "metadata": {},
     "output_type": "execute_result"
    }
   ],
   "source": [
    "predicted_y=clf.predict(X_test)\n",
    "accuracy_score(y_test, predicted_y)"
   ]
  },
  {
   "cell_type": "raw",
   "metadata": {},
   "source": [
    "To improve the performance:\n",
    "    1- Use other nonlinear models suitable for sequential data such as Recurrent Neural Networks (RNNs).\n",
    "    2- Improve the data representation (change the average embeddings). \n",
    "    3- Bigger dataset to improve generalization (in our example we used only 1000 sentences)."
   ]
  }
 ],
 "metadata": {
  "kernelspec": {
   "display_name": "Python 3 (ipykernel)",
   "language": "python",
   "name": "python3"
  },
  "language_info": {
   "codemirror_mode": {
    "name": "ipython",
    "version": 3
   },
   "file_extension": ".py",
   "mimetype": "text/x-python",
   "name": "python",
   "nbconvert_exporter": "python",
   "pygments_lexer": "ipython3",
   "version": "3.11.2"
  }
 },
 "nbformat": 4,
 "nbformat_minor": 4
}
